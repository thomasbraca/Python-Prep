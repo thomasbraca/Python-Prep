{
 "cells": [
  {
   "attachments": {},
   "cell_type": "markdown",
   "metadata": {},
   "source": [
    "## Clases y Programación Orientada a Objetos"
   ]
  },
  {
   "attachments": {},
   "cell_type": "markdown",
   "metadata": {},
   "source": [
    "1) Crear la clase vehículo que contenga los atributos:<br>\n",
    "Color<br>\n",
    "Si es moto, auto, camioneta ó camión<br>\n",
    "Cilindrada del motor"
   ]
  },
  {
   "cell_type": "code",
   "execution_count": 1,
   "metadata": {},
   "outputs": [],
   "source": [
    "class Vehiculo:\n",
    "    def __innit__(self,color,tipo,cilindrada):\n",
    "        self.color=color\n",
    "        self.tipo=tipo\n",
    "        self.cilindrada=cilindrada"
   ]
  },
  {
   "attachments": {},
   "cell_type": "markdown",
   "metadata": {},
   "source": [
    "2) A la clase Vehiculo creada en el punto 1, agregar los siguientes métodos:<br>\n",
    "Acelerar<br>\n",
    "Frenar<br>\n",
    "Doblar<br>"
   ]
  },
  {
   "cell_type": "code",
   "execution_count": 6,
   "metadata": {},
   "outputs": [],
   "source": [
    "class Vehiculo:\n",
    "    def __init__(self,color,tipo,cilindrada):\n",
    "        self.color=color\n",
    "        self.tipo=tipo\n",
    "        self.cilindrada=cilindrada\n",
    "        self.velocidad=0\n",
    "        self.direccion=0\n",
    "    \n",
    "    def acelerar(self, vel):\n",
    "        self.velocidad+=vel\n",
    "    def frenar(self, vel):\n",
    "        self.velocidad-=vel\n",
    "    def doblar(self,angulo):\n",
    "        self.direccion+=angulo"
   ]
  },
  {
   "attachments": {},
   "cell_type": "markdown",
   "metadata": {},
   "source": [
    "3) Instanciar 3 objetos de la clase vehículo y ejecutar sus métodos, probar luego el resultado"
   ]
  },
  {
   "cell_type": "code",
   "execution_count": 8,
   "metadata": {},
   "outputs": [
    {
     "name": "stdout",
     "output_type": "stream",
     "text": [
      "El primer vehículo va a una velocidad de 1 y con una direccion 10\n",
      "El segundo vehículo va a una velocidad de 5 y con una direccion -50\n",
      "El tercer vehículo va a una velocidad de 6 y con una direccion 90\n"
     ]
    }
   ],
   "source": [
    "a1= Vehiculo('Rojo','Auto',2)\n",
    "a2= Vehiculo('Amarillo','Moto',4)\n",
    "a3= Vehiculo('Violeta','Camioneta', 7)\n",
    "\n",
    "a1.acelerar(5)\n",
    "a1.frenar(4)\n",
    "a1.doblar(10)\n",
    "\n",
    "a2.acelerar(7)\n",
    "a2.frenar(2)\n",
    "a2.doblar(-50)\n",
    "\n",
    "a3.acelerar(8)\n",
    "a3.frenar(2)\n",
    "a3.doblar(90)\n",
    "\n",
    "print('El primer vehículo va a una velocidad de', a1.velocidad, 'y con una direccion', a1.direccion)\n",
    "print('El segundo vehículo va a una velocidad de', a2.velocidad, 'y con una direccion', a2.direccion)\n",
    "print('El tercer vehículo va a una velocidad de', a3.velocidad, 'y con una direccion', a3.direccion)\n",
    "\n",
    "\n"
   ]
  },
  {
   "attachments": {},
   "cell_type": "markdown",
   "metadata": {},
   "source": [
    "4) Agregar a la clase Vehiculo, un método que muestre su estado, es decir, a que velocidad se encuentra y su dirección. Y otro método que muestre color, tipo y cilindrada"
   ]
  },
  {
   "cell_type": "code",
   "execution_count": 10,
   "metadata": {},
   "outputs": [
    {
     "name": "stdout",
     "output_type": "stream",
     "text": [
      "El vehículo va a una velocidad de 0 y con una direccion 0\n",
      "El vehículo es auto de color rojo y tiene 7 cilindros\n"
     ]
    }
   ],
   "source": [
    "class Vehiculo:\n",
    "    def __init__(self,color,tipo,cilindrada):\n",
    "        self.color=color\n",
    "        self.tipo=tipo\n",
    "        self.cilindrada=cilindrada\n",
    "        self.velocidad=0\n",
    "        self.direccion=0\n",
    "    \n",
    "    def acelerar(self, vel):\n",
    "        self.velocidad+=vel\n",
    "    def frenar(self, vel):\n",
    "        self.velocidad-=vel\n",
    "    def doblar(self,angulo):\n",
    "        self.direccion+=angulo\n",
    "\n",
    "    def estado(self):\n",
    "        print('El vehículo va a una velocidad de', self.velocidad, 'y con una direccion', self.direccion)\n",
    "    \n",
    "    def caracteristicas(self):\n",
    "        print('El vehículo es', self.tipo, 'de color', self.color, 'y tiene', self.cilindrada, 'cilindros')\n",
    "\n",
    "\n",
    "ejemplo=Vehiculo(\"rojo\",\"auto\",7)\n",
    "\n",
    "ejemplo.estado()\n",
    "ejemplo.caracteristicas()"
   ]
  },
  {
   "attachments": {},
   "cell_type": "markdown",
   "metadata": {},
   "source": [
    "5) Crear una clase que permita utilizar las funciones creadas en la práctica del módulo 7<br>\n",
    "Verificar Primo<br>\n",
    "Valor modal<br>\n",
    "Conversión grados<br>\n",
    "Factorial<br>"
   ]
  },
  {
   "cell_type": "code",
   "execution_count": 22,
   "metadata": {},
   "outputs": [],
   "source": [
    "class Funciones:\n",
    "    def __init__(self) -> None:\n",
    "       pass\n",
    "\n",
    "    def es_primo (self,numero):\n",
    "        primo=True\n",
    "        for i in range(2,numero):\n",
    "            if numero%i==0:\n",
    "                primo=False\n",
    "                break\n",
    "        return primo\n",
    "    def mas_repetido(self,lista):\n",
    "        lista_valor=[]\n",
    "        lista_repeticiones=[]\n",
    "        if len(lista)==0:\n",
    "            return None\n",
    "        for elemento in lista:\n",
    "            if elemento in lista_valor:\n",
    "                i = lista_valor.index(elemento)\n",
    "                lista_repeticiones[i]+=1\n",
    "            else:\n",
    "                lista_valor.append(elemento)\n",
    "                lista_repeticiones.append(1)\n",
    "        valor_mas_repetido = lista_valor[0]\n",
    "        cantidad_de_repeticiones = lista_repeticiones[0]\n",
    "\n",
    "        for i,elemento in enumerate(lista_repeticiones):\n",
    "            if lista_repeticiones[i]>cantidad_de_repeticiones:\n",
    "                valor_mas_repetido=lista_valor[i]\n",
    "                cantidad_de_repeticiones=lista_repeticiones[i]\n",
    "        return valor_mas_repetido, cantidad_de_repeticiones\n",
    "    def conversion_grados (self,valor, origen, destino):\n",
    "        if origen==\"celsius\":\n",
    "            if destino==\"celsius\":\n",
    "                return valor\n",
    "            \n",
    "            elif destino==\"farenheit\":\n",
    "                return (valor*9/5)+32\n",
    "            \n",
    "            elif destino==\"kelvin\":\n",
    "                return valor + 273.15\n",
    "            else:\n",
    "                print(\"Parametro de destino incorrecto\")\n",
    "        elif origen==\"farenheit\":\n",
    "            if destino==\"celsius\":\n",
    "                return (valor-32)*5/9\n",
    "            \n",
    "            elif destino==\"farenheit\":\n",
    "                return valor\n",
    "            \n",
    "            elif destino==\"kelvin\":\n",
    "                return ((valor-32)*5/9) + 273.15\n",
    "            else:\n",
    "                print(\"Parametro de destino incorrecto\")\n",
    "        elif origen==\"kelvin\":\n",
    "            if destino==\"celsius\":\n",
    "                return valor - 273.15\n",
    "            \n",
    "            elif destino==\"farenheit\":\n",
    "                return ((valor - 273.15)*9/5)+32\n",
    "            \n",
    "            elif destino==\"kelvin\":\n",
    "                return valor \n",
    "            else:\n",
    "                print(\"Parametro de destino incorrecto\")\n",
    "        else:\n",
    "            print(\"Parametro de origen incorrecto\")\n",
    "\n",
    "    def factorial (self,numero):\n",
    "        if type(numero)!= int:\n",
    "            return \"El numero debe ser un entero\"\n",
    "        if numero<0:\n",
    "            return \"El numero debe ser positivo\"\n",
    "        if numero <= 1:\n",
    "            return 1\n",
    "        \n",
    "        numero = numero*self.factorial(numero-1)\n",
    "        return numero"
   ]
  },
  {
   "attachments": {},
   "cell_type": "markdown",
   "metadata": {},
   "source": [
    "6) Probar las funciones incorporadas en la clase del punto 5"
   ]
  },
  {
   "cell_type": "code",
   "execution_count": 23,
   "metadata": {},
   "outputs": [
    {
     "name": "stdout",
     "output_type": "stream",
     "text": [
      "False\n",
      "True\n",
      "(1, 6)\n",
      "50.0\n",
      "120\n"
     ]
    }
   ],
   "source": [
    "f=Funciones()\n",
    "\n",
    "print(f.es_primo(8))\n",
    "print(f.es_primo(2))\n",
    "\n",
    "lis=[1,1,1,1,1,1,5,5,5,5,7,7,7,7,8,8,8,8,6,6,6,]\n",
    "\n",
    "print(f.mas_repetido(lis))\n",
    "\n",
    "print(f.conversion_grados(10,'celsius','farenheit'))\n",
    "\n",
    "print(f.factorial(5))\n"
   ]
  },
  {
   "attachments": {},
   "cell_type": "markdown",
   "metadata": {},
   "source": [
    "7) Es necesario que la clase creada en el punto 5 contenga una lista, sobre la cual se apliquen las funciones incorporadas"
   ]
  },
  {
   "cell_type": "code",
   "execution_count": 26,
   "metadata": {},
   "outputs": [],
   "source": [
    "class Funciones:\n",
    "    def __init__(self,lista_numeros):\n",
    "       self.lista=lista_numeros\n",
    "\n",
    "    def es_primo(self):\n",
    "        for i in self.lista:\n",
    "            if self.__es_primo(1):\n",
    "                print('El numero', i, 'es primo')\n",
    "            else:\n",
    "                print('El numero', i, 'no es primo')\n",
    "\n",
    "    def conversion_grados(self,origen,destino):\n",
    "        for i in self.lista:\n",
    "            print(i, 'grados', origen, 'son', self.__conversion_grados(i,origen,destino), 'grados', destino) \n",
    "\n",
    "    def factorial(self):\n",
    "        for i in self.lista:\n",
    "            print('El factorial de',i,'es',self.__factorial(i))\n",
    "\n",
    "    def __es_primo (self,numero):\n",
    "        primo=True\n",
    "        for i in range(2,numero):\n",
    "            if numero%i==0:\n",
    "                primo=False\n",
    "                break\n",
    "        return primo\n",
    "    def mas_repetido(self):\n",
    "        lista_valor=[]\n",
    "        lista_repeticiones=[]\n",
    "        if len(self.lista)==0:\n",
    "            return None\n",
    "        for elemento in self.lista:\n",
    "            if elemento in lista_valor:\n",
    "                i = lista_valor.index(elemento)\n",
    "                lista_repeticiones[i]+=1\n",
    "            else:\n",
    "                lista_valor.append(elemento)\n",
    "                lista_repeticiones.append(1)\n",
    "        valor_mas_repetido = lista_valor[0]\n",
    "        cantidad_de_repeticiones = lista_repeticiones[0]\n",
    "\n",
    "        for i,elemento in enumerate(lista_repeticiones):\n",
    "            if lista_repeticiones[i]>cantidad_de_repeticiones:\n",
    "                valor_mas_repetido=lista_valor[i]\n",
    "                cantidad_de_repeticiones=lista_repeticiones[i]\n",
    "        return valor_mas_repetido, cantidad_de_repeticiones\n",
    "    def __conversion_grados (self,valor, origen, destino):\n",
    "        if origen==\"celsius\":\n",
    "            if destino==\"celsius\":\n",
    "                return valor\n",
    "            \n",
    "            elif destino==\"farenheit\":\n",
    "                return (valor*9/5)+32\n",
    "            \n",
    "            elif destino==\"kelvin\":\n",
    "                return valor + 273.15\n",
    "            else:\n",
    "                print(\"Parametro de destino incorrecto\")\n",
    "        elif origen==\"farenheit\":\n",
    "            if destino==\"celsius\":\n",
    "                return (valor-32)*5/9\n",
    "            \n",
    "            elif destino==\"farenheit\":\n",
    "                return valor\n",
    "            \n",
    "            elif destino==\"kelvin\":\n",
    "                return ((valor-32)*5/9) + 273.15\n",
    "            else:\n",
    "                print(\"Parametro de destino incorrecto\")\n",
    "        elif origen==\"kelvin\":\n",
    "            if destino==\"celsius\":\n",
    "                return valor - 273.15\n",
    "            \n",
    "            elif destino==\"farenheit\":\n",
    "                return ((valor - 273.15)*9/5)+32\n",
    "            \n",
    "            elif destino==\"kelvin\":\n",
    "                return valor \n",
    "            else:\n",
    "                print(\"Parametro de destino incorrecto\")\n",
    "        else:\n",
    "            print(\"Parametro de origen incorrecto\")\n",
    "\n",
    "    def __factorial (self,numero):\n",
    "        if type(numero)!= int:\n",
    "            return \"El numero debe ser un entero\"\n",
    "        if numero<0:\n",
    "            return \"El numero debe ser positivo\"\n",
    "        if numero <= 1:\n",
    "            return 1\n",
    "        \n",
    "        numero = numero*self.__factorial(numero-1)\n",
    "        return numero"
   ]
  },
  {
   "attachments": {},
   "cell_type": "markdown",
   "metadata": {},
   "source": [
    "8) Crear un archivo .py aparte y ubicar allí la clase generada en el punto anterior. Luego realizar la importación del módulo y probar alguna de sus funciones"
   ]
  },
  {
   "cell_type": "code",
   "execution_count": 31,
   "metadata": {},
   "outputs": [
    {
     "name": "stdout",
     "output_type": "stream",
     "text": [
      "El numero 1 es primo\n",
      "El numero 1 es primo\n",
      "El numero 2 es primo\n",
      "El numero 2 es primo\n",
      "El numero 2 es primo\n",
      "El numero 2 es primo\n",
      "El numero 4 es primo\n",
      "El numero 5 es primo\n",
      "El numero 5 es primo\n",
      "El numero 5 es primo\n",
      "El numero 6 es primo\n",
      "El numero 8 es primo\n",
      "El numero 10 es primo\n",
      "El numero 20 es primo\n",
      "Parametro de origen incorrecto\n",
      "1 grados celcius son None grados farenheit\n",
      "Parametro de origen incorrecto\n",
      "1 grados celcius son None grados farenheit\n",
      "Parametro de origen incorrecto\n",
      "2 grados celcius son None grados farenheit\n",
      "Parametro de origen incorrecto\n",
      "2 grados celcius son None grados farenheit\n",
      "Parametro de origen incorrecto\n",
      "2 grados celcius son None grados farenheit\n",
      "Parametro de origen incorrecto\n",
      "2 grados celcius son None grados farenheit\n",
      "Parametro de origen incorrecto\n",
      "4 grados celcius son None grados farenheit\n",
      "Parametro de origen incorrecto\n",
      "5 grados celcius son None grados farenheit\n",
      "Parametro de origen incorrecto\n",
      "5 grados celcius son None grados farenheit\n",
      "Parametro de origen incorrecto\n",
      "5 grados celcius son None grados farenheit\n",
      "Parametro de origen incorrecto\n",
      "6 grados celcius son None grados farenheit\n",
      "Parametro de origen incorrecto\n",
      "8 grados celcius son None grados farenheit\n",
      "Parametro de origen incorrecto\n",
      "10 grados celcius son None grados farenheit\n",
      "Parametro de origen incorrecto\n",
      "20 grados celcius son None grados farenheit\n",
      "El factorial de 1 es 1\n",
      "El factorial de 1 es 1\n",
      "El factorial de 2 es 2\n",
      "El factorial de 2 es 2\n",
      "El factorial de 2 es 2\n",
      "El factorial de 2 es 2\n",
      "El factorial de 4 es 24\n",
      "El factorial de 5 es 120\n",
      "El factorial de 5 es 120\n",
      "El factorial de 5 es 120\n",
      "El factorial de 6 es 720\n",
      "El factorial de 8 es 40320\n",
      "El factorial de 10 es 3628800\n",
      "El factorial de 20 es 2432902008176640000\n"
     ]
    },
    {
     "data": {
      "text/plain": [
       "<bound method Funcionesnuevas.mas_repetido of <funcionesnuevas.Funcionesnuevas object at 0x000001583F2ABFD0>>"
      ]
     },
     "execution_count": 31,
     "metadata": {},
     "output_type": "execute_result"
    }
   ],
   "source": [
    "from funcionesnuevas import *\n",
    "\n",
    "n=Funcionesnuevas([1,1,2,2,2,2,4,5,5,5,6,8,10,20])\n",
    "\n",
    "n.es_primo()\n",
    "n.conversion_grados(\"celcius\",\"farenheit\")\n",
    "n.factorial()\n",
    "n.mas_repetido"
   ]
  }
 ],
 "metadata": {
  "kernelspec": {
   "display_name": "Python 3",
   "language": "python",
   "name": "python3"
  },
  "language_info": {
   "codemirror_mode": {
    "name": "ipython",
    "version": 3
   },
   "file_extension": ".py",
   "mimetype": "text/x-python",
   "name": "python",
   "nbconvert_exporter": "python",
   "pygments_lexer": "ipython3",
   "version": "3.10.11"
  },
  "vscode": {
   "interpreter": {
    "hash": "40ea231ce006ed65b013ba3e9b5a48267321b4d32b910ea3a649228a606377c3"
   }
  }
 },
 "nbformat": 4,
 "nbformat_minor": 4
}
