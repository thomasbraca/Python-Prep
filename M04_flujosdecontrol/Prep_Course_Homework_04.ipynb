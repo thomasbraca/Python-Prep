{
 "cells": [
  {
   "attachments": {},
   "cell_type": "markdown",
   "metadata": {},
   "source": [
    "## Flujos de Control"
   ]
  },
  {
   "attachments": {},
   "cell_type": "markdown",
   "metadata": {},
   "source": [
    "1) Crear una variable que contenga un elemento del conjunto de números enteros y luego imprimir por pantalla si es mayor o menor a cero"
   ]
  },
  {
   "cell_type": "code",
   "execution_count": 7,
   "metadata": {},
   "outputs": [
    {
     "name": "stdout",
     "output_type": "stream",
     "text": [
      "5 es mayor a 0\n"
     ]
    }
   ],
   "source": [
    "a = 5\n",
    "if (a > 0):\n",
    "    print( str(a) + \" es mayor a 0\")\n",
    "\n",
    "elif ( a < 0 ):\n",
    "    print ( str(a) + \" es menor a 0\")\n",
    "\n",
    "else:\n",
    "    print ( str(a) + \" es igual a 0\")"
   ]
  },
  {
   "attachments": {},
   "cell_type": "markdown",
   "metadata": {},
   "source": [
    "2) Crear dos variables y un condicional que informe si son del mismo tipo de dato"
   ]
  },
  {
   "cell_type": "code",
   "execution_count": 10,
   "metadata": {},
   "outputs": [
    {
     "name": "stdout",
     "output_type": "stream",
     "text": [
      "a y b no son del mismo tipo de dato\n"
     ]
    }
   ],
   "source": [
    "a = 1\n",
    "b = \"Hola\"\n",
    "\n",
    "if (type(a)==type(b)):\n",
    "    print(\"a y b son del mismo tipo de dato\")\n",
    "else:\n",
    "    print(\"a y b no son del mismo tipo de dato\")\n",
    "\n"
   ]
  },
  {
   "attachments": {},
   "cell_type": "markdown",
   "metadata": {},
   "source": [
    "3) Para los valores enteros del 1 al 20, imprimir por pantalla si es par o impar"
   ]
  },
  {
   "cell_type": "code",
   "execution_count": 12,
   "metadata": {},
   "outputs": [
    {
     "name": "stdout",
     "output_type": "stream",
     "text": [
      "1 es impar\n",
      "2 es par\n",
      "3 es impar\n",
      "4 es par\n",
      "5 es impar\n",
      "6 es par\n",
      "7 es impar\n",
      "8 es par\n",
      "9 es impar\n",
      "10 es par\n",
      "11 es impar\n",
      "12 es par\n",
      "13 es impar\n",
      "14 es par\n",
      "15 es impar\n",
      "16 es par\n",
      "17 es impar\n",
      "18 es par\n",
      "19 es impar\n",
      "20 es par\n"
     ]
    }
   ],
   "source": [
    "for i in range(1,21):\n",
    "    if ((i%2)==1):\n",
    "        print(str(i) + \" es impar\")\n",
    "    else:\n",
    "        print(str(i) + \" es par\")\n",
    "    "
   ]
  },
  {
   "attachments": {},
   "cell_type": "markdown",
   "metadata": {},
   "source": [
    "4) En un ciclo for mostrar para los valores entre 0 y 5 el resultado de elevarlo a la potencia igual a 3"
   ]
  },
  {
   "cell_type": "code",
   "execution_count": 13,
   "metadata": {},
   "outputs": [
    {
     "name": "stdout",
     "output_type": "stream",
     "text": [
      "0: 0\n",
      "1: 1\n",
      "2: 8\n",
      "3: 27\n",
      "4: 64\n",
      "5: 125\n"
     ]
    }
   ],
   "source": [
    "for i in range(0,6):\n",
    "    print(str(i) + \": \" + str(i**3))"
   ]
  },
  {
   "attachments": {},
   "cell_type": "markdown",
   "metadata": {},
   "source": [
    "5) Crear una variable que contenga un número entero y realizar un ciclo for la misma cantidad de ciclos"
   ]
  },
  {
   "cell_type": "code",
   "execution_count": 18,
   "metadata": {},
   "outputs": [],
   "source": [
    "a = 5\n",
    "\n",
    "for i in range(1,a):\n",
    "    pass"
   ]
  },
  {
   "attachments": {},
   "cell_type": "markdown",
   "metadata": {},
   "source": [
    "6) Utilizar un ciclo while para realizar el factorial de un número guardado en una variable, sólo si la variable contiene un número entero mayor a 0"
   ]
  },
  {
   "cell_type": "code",
   "execution_count": 20,
   "metadata": {},
   "outputs": [
    {
     "name": "stdout",
     "output_type": "stream",
     "text": [
      "El factorial es: 720\n"
     ]
    }
   ],
   "source": [
    "a = 6\n",
    "\n",
    "if(type(a)==int and a>0):\n",
    "    factorial = a\n",
    "    while (a>2):\n",
    "        a -= 1\n",
    "        factorial *= a\n",
    "    print(\"El factorial es: \" + str(factorial))\n",
    "else:\n",
    "    print( \"La variable no es un numero mayor a 0\")\n",
    "\n",
    "\n"
   ]
  },
  {
   "attachments": {},
   "cell_type": "markdown",
   "metadata": {},
   "source": [
    "7) Crear un ciclo for dentro de un ciclo while"
   ]
  },
  {
   "cell_type": "code",
   "execution_count": 21,
   "metadata": {},
   "outputs": [
    {
     "name": "stdout",
     "output_type": "stream",
     "text": [
      "Siclo while numero: 1\n",
      "Siclo for numero: 1\n",
      "Siclo while numero: 2\n",
      "Siclo for numero: 1\n",
      "Siclo for numero: 2\n",
      "Siclo while numero: 3\n",
      "Siclo for numero: 1\n",
      "Siclo for numero: 2\n",
      "Siclo for numero: 3\n"
     ]
    }
   ],
   "source": [
    "a=1\n",
    "while(a<4):\n",
    "    print(\"Siclo while numero: \" + str(a))\n",
    "    for i in range(1,a+1):\n",
    "        print(\"Siclo for numero: \" + str(i))\n",
    "    a += 1\n"
   ]
  },
  {
   "attachments": {},
   "cell_type": "markdown",
   "metadata": {},
   "source": [
    "8) Crear un ciclo while dentro de un ciclo for"
   ]
  },
  {
   "cell_type": "code",
   "execution_count": 23,
   "metadata": {},
   "outputs": [
    {
     "name": "stdout",
     "output_type": "stream",
     "text": [
      "Siclo for numero: 1\n",
      "Siclo while numero: 1\n",
      "Siclo while numero: 2\n",
      "Siclo while numero: 3\n",
      "Siclo for numero: 2\n",
      "Siclo while numero: 1\n",
      "Siclo while numero: 2\n",
      "Siclo while numero: 3\n",
      "Siclo for numero: 3\n",
      "Siclo while numero: 1\n",
      "Siclo while numero: 2\n",
      "Siclo while numero: 3\n"
     ]
    }
   ],
   "source": [
    "for i in range (1,4):\n",
    "    print(\"Siclo for numero: \" + str(i))\n",
    "    a=1\n",
    "    while (a<4):\n",
    "        print(\"Siclo while numero: \" + str(a))\n",
    "        a +=1\n"
   ]
  },
  {
   "attachments": {},
   "cell_type": "markdown",
   "metadata": {},
   "source": [
    "9) Imprimir los números primos existentes entre 0 y 30"
   ]
  },
  {
   "cell_type": "code",
   "execution_count": 24,
   "metadata": {},
   "outputs": [
    {
     "name": "stdout",
     "output_type": "stream",
     "text": [
      "0\n",
      "1\n",
      "2\n",
      "3\n",
      "5\n",
      "7\n",
      "11\n",
      "13\n",
      "17\n",
      "19\n",
      "23\n",
      "29\n"
     ]
    }
   ],
   "source": [
    "n=0\n",
    "while (n<30):\n",
    "    primo = True\n",
    "    for i in range(2,n):\n",
    "        if(n%i == 0):\n",
    "            primo = False\n",
    "    if (primo):\n",
    "        print(n)\n",
    "    n += 1\n",
    "\n"
   ]
  },
  {
   "attachments": {},
   "cell_type": "markdown",
   "metadata": {},
   "source": [
    "10) ¿Se puede mejorar el proceso del punto 9? Utilizar las sentencias break y/ó continue para tal fin"
   ]
  },
  {
   "cell_type": "code",
   "execution_count": 25,
   "metadata": {},
   "outputs": [
    {
     "name": "stdout",
     "output_type": "stream",
     "text": [
      "0\n",
      "1\n",
      "2\n",
      "3\n",
      "5\n",
      "7\n",
      "11\n",
      "13\n",
      "17\n",
      "19\n",
      "23\n",
      "29\n"
     ]
    }
   ],
   "source": [
    "n=0\n",
    "while (n<30):\n",
    "    primo = True\n",
    "    for i in range(2,n):\n",
    "        if(n%i == 0):\n",
    "            primo = False\n",
    "            break\n",
    "    if (primo):\n",
    "        print(n)\n",
    "    n += 1"
   ]
  },
  {
   "attachments": {},
   "cell_type": "markdown",
   "metadata": {},
   "source": [
    "11) En los puntos 9 y 10, se diseño un código que encuentra números primos y además se lo optimizó. ¿Es posible saber en qué medida se optimizó?"
   ]
  },
  {
   "cell_type": "code",
   "execution_count": 29,
   "metadata": {},
   "outputs": [
    {
     "name": "stdout",
     "output_type": "stream",
     "text": [
      "0\n",
      "1\n",
      "2\n",
      "3\n",
      "5\n",
      "7\n",
      "11\n",
      "13\n",
      "17\n",
      "19\n",
      "23\n",
      "29\n",
      "0\n",
      "1\n",
      "2\n",
      "3\n",
      "5\n",
      "7\n",
      "11\n",
      "13\n",
      "17\n",
      "19\n",
      "23\n",
      "29\n",
      "Hubo 378 ciclos sin break\n",
      "Hubo 134 ciclos con break\n",
      "Hubo un 64.55026455026456% menos ciclos\n"
     ]
    }
   ],
   "source": [
    "n=0\n",
    "ciclos_sin_break = 0\n",
    "while (n<30):\n",
    "    primo = True\n",
    "    for i in range(2,n):\n",
    "        ciclos_sin_break += 1\n",
    "        if(n%i == 0):\n",
    "            primo = False\n",
    "    if (primo):\n",
    "        print(n)\n",
    "    n += 1\n",
    "\n",
    "ciclos_con_break = 0\n",
    "n=0\n",
    "while (n<30):\n",
    "    primo = True\n",
    "    for i in range(2,n):\n",
    "        ciclos_con_break += 1\n",
    "        if(n%i == 0):\n",
    "            primo = False\n",
    "            break\n",
    "    if (primo):\n",
    "        print(n)\n",
    "    n += 1\n",
    "\n",
    "print(\"Hubo \" + str(ciclos_sin_break) + \" ciclos sin break\")\n",
    "print(\"Hubo \" + str(ciclos_con_break) + \" ciclos con break\")\n",
    "print(\"Hubo un \" + str((1-(ciclos_con_break/ciclos_sin_break))*100) + \"% menos ciclos\")"
   ]
  },
  {
   "attachments": {},
   "cell_type": "markdown",
   "metadata": {},
   "source": [
    "12) Aplicando continue, armar un ciclo while que solo imprima los valores divisibles por 12, dentro del rango de números de 100 a 300"
   ]
  },
  {
   "cell_type": "code",
   "execution_count": 30,
   "metadata": {},
   "outputs": [
    {
     "name": "stdout",
     "output_type": "stream",
     "text": [
      "108 es divisible por 12\n",
      "120 es divisible por 12\n",
      "132 es divisible por 12\n",
      "144 es divisible por 12\n",
      "156 es divisible por 12\n",
      "168 es divisible por 12\n",
      "180 es divisible por 12\n",
      "192 es divisible por 12\n",
      "204 es divisible por 12\n",
      "216 es divisible por 12\n",
      "228 es divisible por 12\n",
      "240 es divisible por 12\n",
      "252 es divisible por 12\n",
      "264 es divisible por 12\n",
      "276 es divisible por 12\n",
      "288 es divisible por 12\n",
      "300 es divisible por 12\n"
     ]
    }
   ],
   "source": [
    "a = 99\n",
    "while(a<300):\n",
    "    a+=1\n",
    "    if(a%12 != 0):\n",
    "        continue\n",
    "    print( str(a) + \" es divisible por 12\")   "
   ]
  },
  {
   "attachments": {},
   "cell_type": "markdown",
   "metadata": {},
   "source": [
    "13) Utilizar la función **input()** que permite hacer ingresos por teclado, para encontrar números primos y dar la opción al usario de buscar el siguiente"
   ]
  },
  {
   "cell_type": "code",
   "execution_count": 46,
   "metadata": {},
   "outputs": [
    {
     "name": "stdout",
     "output_type": "stream",
     "text": [
      "0\n",
      "Quieres buscar el proximo primo? Precione 1 para continuar\n",
      "1\n",
      "Quieres buscar el proximo primo? Precione 1 para continuar\n",
      "2\n",
      "Quieres buscar el proximo primo? Precione 1 para continuar\n",
      "3\n",
      "Quieres buscar el proximo primo? Precione 1 para continuar\n",
      "5\n",
      "Quieres buscar el proximo primo? Precione 1 para continuar\n",
      "7\n",
      "Quieres buscar el proximo primo? Precione 1 para continuar\n",
      "11\n",
      "Quieres buscar el proximo primo? Precione 1 para continuar\n",
      "13\n",
      "Quieres buscar el proximo primo? Precione 1 para continuar\n",
      "17\n",
      "Quieres buscar el proximo primo? Precione 1 para continuar\n",
      "19\n",
      "Quieres buscar el proximo primo? Precione 1 para continuar\n",
      "23\n",
      "Quieres buscar el proximo primo? Precione 1 para continuar\n",
      "Fin del bucle\n"
     ]
    }
   ],
   "source": [
    "n=0\n",
    "primo = True\n",
    "while (True):\n",
    "    for i in range(2,n):\n",
    "        if(n%i == 0):\n",
    "            primo = False\n",
    "            break\n",
    "    if (primo):\n",
    "        print(n)\n",
    "        print(\"Quieres buscar el proximo primo? Precione 1 para continuar\")\n",
    "        if(input() != '1'):\n",
    "            print(\"Fin del bucle\")\n",
    "            break\n",
    "    else:\n",
    "        primo = True\n",
    "    n += 1"
   ]
  },
  {
   "attachments": {},
   "cell_type": "markdown",
   "metadata": {},
   "source": [
    "14) Crear un ciclo while que encuentre dentro del rango de 100 a 300 el primer número divisible por 3 y además múltiplo de 6"
   ]
  },
  {
   "cell_type": "code",
   "execution_count": 53,
   "metadata": {},
   "outputs": [
    {
     "name": "stdout",
     "output_type": "stream",
     "text": [
      "102 es el primero numero entre 100 y 300 divisible por 3 y mulriplo de 6\n"
     ]
    }
   ],
   "source": [
    "a = 100\n",
    "while (a<=300):\n",
    "    if (a%3 == 0 and a%6==0):\n",
    "        print(a, \"es el primero numero entre 100 y 300 divisible por 3 y mulriplo de 6\")\n",
    "        break\n",
    "    a+= 1\n"
   ]
  }
 ],
 "metadata": {
  "kernelspec": {
   "display_name": "Python 3",
   "language": "python",
   "name": "python3"
  },
  "language_info": {
   "codemirror_mode": {
    "name": "ipython",
    "version": 3
   },
   "file_extension": ".py",
   "mimetype": "text/x-python",
   "name": "python",
   "nbconvert_exporter": "python",
   "pygments_lexer": "ipython3",
   "version": "3.10.11"
  },
  "vscode": {
   "interpreter": {
    "hash": "40ea231ce006ed65b013ba3e9b5a48267321b4d32b910ea3a649228a606377c3"
   }
  }
 },
 "nbformat": 4,
 "nbformat_minor": 4
}
