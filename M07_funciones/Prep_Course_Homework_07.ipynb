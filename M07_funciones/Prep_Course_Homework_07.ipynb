{
 "cells": [
  {
   "attachments": {},
   "cell_type": "markdown",
   "metadata": {},
   "source": [
    "## Funciones"
   ]
  },
  {
   "attachments": {},
   "cell_type": "markdown",
   "metadata": {},
   "source": [
    "1) Crear una función que reciba un número como parámetro y devuelva True si es primo y False si no lo es"
   ]
  },
  {
   "cell_type": "code",
   "execution_count": 1,
   "metadata": {},
   "outputs": [],
   "source": [
    "def es_primo (numero):\n",
    "    primo=True\n",
    "    for i in range(2,numero):\n",
    "        if numero%i==0:\n",
    "            primo=False\n",
    "            break\n",
    "    return primo"
   ]
  },
  {
   "attachments": {},
   "cell_type": "markdown",
   "metadata": {},
   "source": [
    "2) Utilizando la función del punto 1, realizar otra función que reciba de parámetro una lista de números y devuelva sólo aquellos que son primos en otra lista"
   ]
  },
  {
   "cell_type": "code",
   "execution_count": 3,
   "metadata": {},
   "outputs": [
    {
     "name": "stdout",
     "output_type": "stream",
     "text": [
      "[1, 2, 3, 5, 7, 11, 13, 17, 19]\n"
     ]
    }
   ],
   "source": [
    "def lista_primo(lista):\n",
    "    nueva_lista=[]\n",
    "    for elemento in lista:\n",
    "        if es_primo(int(elemento)):\n",
    "            nueva_lista.append(elemento)\n",
    "    return nueva_lista\n",
    "\n",
    "lista = [1,2,3,4,5,6,7,8,9,10,11,12,13,14,15,16,17,18,19,20]\n",
    "listaPrimo = lista_primo(lista)\n",
    "\n",
    "print(listaPrimo)"
   ]
  },
  {
   "attachments": {},
   "cell_type": "markdown",
   "metadata": {},
   "source": [
    "3) Crear una función que al recibir una lista de números, devuelva el que más se repite y cuántas veces lo hace. Si hay más de un \"más repetido\", que devuelva cualquiera"
   ]
  },
  {
   "cell_type": "code",
   "execution_count": 8,
   "metadata": {},
   "outputs": [
    {
     "data": {
      "text/plain": [
       "(5, 6)"
      ]
     },
     "execution_count": 8,
     "metadata": {},
     "output_type": "execute_result"
    }
   ],
   "source": [
    "def mas_repetido(lista):\n",
    "    lista_valor=[]\n",
    "    lista_repeticiones=[]\n",
    "    if len(lista)==0:\n",
    "        return None\n",
    "    for elemento in lista:\n",
    "        if elemento in lista_valor:\n",
    "            i = lista_valor.index(elemento)\n",
    "            lista_repeticiones[i]+=1\n",
    "        else:\n",
    "            lista_valor.append(elemento)\n",
    "            lista_repeticiones.append(1)\n",
    "    valor_mas_repetido = lista_valor[0]\n",
    "    cantidad_de_repeticiones = lista_repeticiones[0]\n",
    "\n",
    "    for i,elemento in enumerate(lista_repeticiones):\n",
    "        if lista_repeticiones[i]>cantidad_de_repeticiones:\n",
    "            valor_mas_repetido=lista_valor[i]\n",
    "            cantidad_de_repeticiones=lista_repeticiones[i]\n",
    "    return valor_mas_repetido, cantidad_de_repeticiones\n",
    "\n",
    "\n",
    "lis = [1,1,1,5,5,5,7,7,7,8,9,9,6,3,3,8,4,8,4,4,5,5,5,8,7,7,7,8]\n",
    "\n",
    "mas_repetido(lis)"
   ]
  },
  {
   "attachments": {},
   "cell_type": "markdown",
   "metadata": {},
   "source": [
    "4) Crear una función que convierta entre grados Celsius, Farenheit y Kelvin<br>\n",
    "Fórmula 1\t: (°C × 9/5) + 32 = °F<br>\n",
    "Fórmula 2\t: °C + 273.15 = °K<br>\n",
    "Debe recibir 3 parámetros: el valor, la medida de orígen y la medida de destino\n"
   ]
  },
  {
   "cell_type": "code",
   "execution_count": 12,
   "metadata": {},
   "outputs": [
    {
     "name": "stdout",
     "output_type": "stream",
     "text": [
      "1 grado Celsius a Celsius: 1\n",
      "1 grado Celsius a Kelvin: 274.15\n",
      "1 grado Celsius a Farenheit: 33.8\n",
      "1 grado Kelvin a Celsius: -272.15\n",
      "1 grado Kelvin a Kelvin: 1\n",
      "1 grado Kelvin a Farenheit: -457.87\n",
      "1 grado Farenheit a Celsius: -17.22222222222222\n",
      "1 grado Farenheit a Kelvin: 255.92777777777775\n",
      "1 grado Farenheit a Farenheit: 1\n"
     ]
    }
   ],
   "source": [
    "def conversion_grados (valor, origen, destino):\n",
    "    if origen==\"celsius\":\n",
    "        if destino==\"celsius\":\n",
    "            return valor\n",
    "        \n",
    "        elif destino==\"farenheit\":\n",
    "            return (valor*9/5)+32\n",
    "        \n",
    "        elif destino==\"kelvin\":\n",
    "            return valor + 273.15\n",
    "        else:\n",
    "            print(\"Parametro de destino incorrecto\")\n",
    "    elif origen==\"farenheit\":\n",
    "        if destino==\"celsius\":\n",
    "            return (valor-32)*5/9\n",
    "        \n",
    "        elif destino==\"farenheit\":\n",
    "            return valor\n",
    "        \n",
    "        elif destino==\"kelvin\":\n",
    "            return ((valor-32)*5/9) + 273.15\n",
    "        else:\n",
    "            print(\"Parametro de destino incorrecto\")\n",
    "    elif origen==\"kelvin\":\n",
    "        if destino==\"celsius\":\n",
    "            return valor - 273.15\n",
    "        \n",
    "        elif destino==\"farenheit\":\n",
    "            return ((valor - 273.15)*9/5)+32\n",
    "        \n",
    "        elif destino==\"kelvin\":\n",
    "            return valor \n",
    "        else:\n",
    "            print(\"Parametro de destino incorrecto\")\n",
    "    else:\n",
    "        print(\"Parametro de origen incorrecto\")\n",
    "\n",
    "\n",
    "print('1 grado Celsius a Celsius:', conversion_grados(1, 'celsius', 'celsius'))\n",
    "print('1 grado Celsius a Kelvin:', conversion_grados(1, 'celsius', 'kelvin'))\n",
    "print('1 grado Celsius a Farenheit:', conversion_grados(1, 'celsius', 'farenheit'))\n",
    "print('1 grado Kelvin a Celsius:', conversion_grados(1, 'kelvin', 'celsius'))\n",
    "print('1 grado Kelvin a Kelvin:', conversion_grados(1, 'kelvin', 'kelvin'))\n",
    "print('1 grado Kelvin a Farenheit:', conversion_grados(1, 'kelvin', 'farenheit'))\n",
    "print('1 grado Farenheit a Celsius:', conversion_grados(1, 'farenheit', 'celsius'))\n",
    "print('1 grado Farenheit a Kelvin:', conversion_grados(1, 'farenheit', 'kelvin'))\n",
    "print('1 grado Farenheit a Farenheit:', conversion_grados(1, 'farenheit', 'farenheit'))"
   ]
  },
  {
   "attachments": {},
   "cell_type": "markdown",
   "metadata": {},
   "source": [
    "5) Iterando una lista con los tres valores posibles de temperatura que recibe la función del punto 5, hacer un print para cada combinación de los mismos:"
   ]
  },
  {
   "cell_type": "code",
   "execution_count": 15,
   "metadata": {},
   "outputs": [
    {
     "name": "stdout",
     "output_type": "stream",
     "text": [
      "1 grado celsius a celsius 1\n",
      "1 grado celsius a kelvin 274.15\n",
      "1 grado celsius a farenheit 33.8\n",
      "1 grado kelvin a celsius -272.15\n",
      "1 grado kelvin a kelvin 1\n",
      "1 grado kelvin a farenheit -457.87\n",
      "1 grado farenheit a celsius -17.22222222222222\n",
      "1 grado farenheit a kelvin 255.92777777777775\n",
      "1 grado farenheit a farenheit 1\n"
     ]
    }
   ],
   "source": [
    "temperaturas = [\"celsius\", \"kelvin\", \"farenheit\"]\n",
    "\n",
    "for i in temperaturas:\n",
    "    for j in temperaturas:\n",
    "        print('1 grado', i, 'a', j, conversion_grados(1,i,j))"
   ]
  },
  {
   "attachments": {},
   "cell_type": "markdown",
   "metadata": {},
   "source": [
    "6) Armar una función que devuelva el factorial de un número. Tener en cuenta que el usuario puede equivocarse y enviar de parámetro un número no entero o negativo"
   ]
  },
  {
   "cell_type": "code",
   "execution_count": 16,
   "metadata": {},
   "outputs": [
    {
     "name": "stdout",
     "output_type": "stream",
     "text": [
      "120\n",
      "El numero debe ser positivo\n",
      "El numero debe ser un entero\n",
      "El numero debe ser un entero\n"
     ]
    }
   ],
   "source": [
    "def factorial (numero):\n",
    "    if type(numero)!= int:\n",
    "        return \"El numero debe ser un entero\"\n",
    "    if numero<0:\n",
    "        return \"El numero debe ser positivo\"\n",
    "    if numero <= 1:\n",
    "        return 1\n",
    "    \n",
    "    numero = numero*factorial(numero-1)\n",
    "    return numero\n",
    "\n",
    "print(factorial(5))\n",
    "print(factorial(-2))\n",
    "print(factorial(1.23))\n",
    "print(factorial('6'))"
   ]
  }
 ],
 "metadata": {
  "kernelspec": {
   "display_name": "Python 3",
   "language": "python",
   "name": "python3"
  },
  "language_info": {
   "codemirror_mode": {
    "name": "ipython",
    "version": 3
   },
   "file_extension": ".py",
   "mimetype": "text/x-python",
   "name": "python",
   "nbconvert_exporter": "python",
   "pygments_lexer": "ipython3",
   "version": "3.10.11"
  },
  "vscode": {
   "interpreter": {
    "hash": "40ea231ce006ed65b013ba3e9b5a48267321b4d32b910ea3a649228a606377c3"
   }
  }
 },
 "nbformat": 4,
 "nbformat_minor": 4
}
