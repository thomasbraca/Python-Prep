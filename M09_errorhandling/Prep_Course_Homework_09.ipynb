{
 "cells": [
  {
   "attachments": {},
   "cell_type": "markdown",
   "metadata": {},
   "source": [
    "## Manejo de errores"
   ]
  },
  {
   "attachments": {},
   "cell_type": "markdown",
   "metadata": {},
   "source": [
    "1) Con la clase creada en el módulo 7, tener en cuenta diferentes casos en que el código pudiera arrojar error. Por ejemplo, en la creación del objeto recibimos una lista de números enteros pero ¿qué pasa si se envía otro tipo de dato?"
   ]
  },
  {
   "cell_type": "code",
   "execution_count": 11,
   "metadata": {},
   "outputs": [
    {
     "ename": "ValueError",
     "evalue": "Se espera una lista",
     "output_type": "error",
     "traceback": [
      "\u001b[1;31m---------------------------------------------------------------------------\u001b[0m",
      "\u001b[1;31mValueError\u001b[0m                                Traceback (most recent call last)",
      "Cell \u001b[1;32mIn[11], line 7\u001b[0m\n\u001b[0;32m      2\u001b[0m sys\u001b[39m.\u001b[39mpath\u001b[39m.\u001b[39mappend(\u001b[39mr\u001b[39m\u001b[39m'\u001b[39m\u001b[39mC:\u001b[39m\u001b[39m\\\u001b[39m\u001b[39mUsers\u001b[39m\u001b[39m\\\u001b[39m\u001b[39mAdministrator\u001b[39m\u001b[39m\\\u001b[39m\u001b[39mDesktop\u001b[39m\u001b[39m\\\u001b[39m\u001b[39mPython-Prep\u001b[39m\u001b[39m\\\u001b[39m\u001b[39mM09_errorhandling\u001b[39m\u001b[39m'\u001b[39m)\n\u001b[0;32m      5\u001b[0m \u001b[39mimport\u001b[39;00m \u001b[39mfuncionesnuevas2\u001b[39;00m \u001b[39mas\u001b[39;00m \u001b[39mf\u001b[39;00m\n\u001b[1;32m----> 7\u001b[0m f1 \u001b[39m=\u001b[39m f\u001b[39m.\u001b[39;49mFuncionesnuevas(\u001b[39m'\u001b[39;49m\u001b[39mhola\u001b[39;49m\u001b[39m'\u001b[39;49m)\n",
      "File \u001b[1;32mc:\\Users\\Administrator\\Desktop\\Python-Prep\\M09_errorhandling\\funcionesnuevas2.py:5\u001b[0m, in \u001b[0;36mFuncionesnuevas.__init__\u001b[1;34m(self, lista_numeros)\u001b[0m\n\u001b[0;32m      3\u001b[0m \u001b[39mif\u001b[39;00m(\u001b[39mtype\u001b[39m(lista_numeros)\u001b[39m!=\u001b[39m\u001b[39mlist\u001b[39m):\n\u001b[0;32m      4\u001b[0m     \u001b[39mself\u001b[39m\u001b[39m.\u001b[39mlista\u001b[39m=\u001b[39m[]\n\u001b[1;32m----> 5\u001b[0m     \u001b[39mraise\u001b[39;00m \u001b[39mValueError\u001b[39;00m(\u001b[39m'\u001b[39m\u001b[39mSe espera una lista\u001b[39m\u001b[39m'\u001b[39m)\n\u001b[0;32m      6\u001b[0m \u001b[39melse\u001b[39;00m:\n\u001b[0;32m      7\u001b[0m     \u001b[39mself\u001b[39m\u001b[39m.\u001b[39mlista\u001b[39m=\u001b[39mlista_numeros\n",
      "\u001b[1;31mValueError\u001b[0m: Se espera una lista"
     ]
    }
   ],
   "source": [
    "import sys\n",
    "sys.path.append(r'C:\\Users\\Administrator\\Desktop\\Python-Prep\\M09_errorhandling')\n",
    "\n",
    "\n",
    "import funcionesnuevas2 as f\n",
    "\n",
    "f1 = f.Funcionesnuevas('hola')\n",
    "\n",
    "\n",
    "\n"
   ]
  },
  {
   "attachments": {},
   "cell_type": "markdown",
   "metadata": {},
   "source": [
    "2) En la función que hace la conversión de grados, validar que los parámetros enviados sean los esperados, de no serlo, informar cuáles son los valores esperados."
   ]
  },
  {
   "cell_type": "code",
   "execution_count": 23,
   "metadata": {},
   "outputs": [],
   "source": [
    "f1=f.Funcionesnuevas([1,2,2,3,4,5])"
   ]
  },
  {
   "cell_type": "code",
   "execution_count": 24,
   "metadata": {},
   "outputs": [
    {
     "data": {
      "text/plain": [
       "<module 'funcionesnuevas2' from 'c:\\\\Users\\\\Administrator\\\\Desktop\\\\Python-Prep\\\\M09_errorhandling\\\\funcionesnuevas2.py'>"
      ]
     },
     "execution_count": 24,
     "metadata": {},
     "output_type": "execute_result"
    }
   ],
   "source": [
    "import importlib\n",
    "importlib.reload(f)\n"
   ]
  },
  {
   "cell_type": "code",
   "execution_count": 25,
   "metadata": {},
   "outputs": [
    {
     "ename": "ValueError",
     "evalue": "Parametros incorrectos",
     "output_type": "error",
     "traceback": [
      "\u001b[1;31m---------------------------------------------------------------------------\u001b[0m",
      "\u001b[1;31mValueError\u001b[0m                                Traceback (most recent call last)",
      "Cell \u001b[1;32mIn[25], line 1\u001b[0m\n\u001b[1;32m----> 1\u001b[0m f1\u001b[39m.\u001b[39;49mconversion_grados(\u001b[39m'\u001b[39;49m\u001b[39mcelsius\u001b[39;49m\u001b[39m'\u001b[39;49m,\u001b[39m'\u001b[39;49m\u001b[39mnada\u001b[39;49m\u001b[39m'\u001b[39;49m)\n",
      "File \u001b[1;32mc:\\Users\\Administrator\\Desktop\\Python-Prep\\M09_errorhandling\\funcionesnuevas2.py:24\u001b[0m, in \u001b[0;36mFuncionesnuevas.conversion_grados\u001b[1;34m(self, origen, destino)\u001b[0m\n\u001b[0;32m     22\u001b[0m     \u001b[39mreturn\u001b[39;00m lista_covertida\n\u001b[0;32m     23\u001b[0m \u001b[39mif\u001b[39;00m destino \u001b[39mnot\u001b[39;00m \u001b[39min\u001b[39;00m datos_esperados:\n\u001b[1;32m---> 24\u001b[0m     \u001b[39mraise\u001b[39;00m \u001b[39mValueError\u001b[39;00m(\u001b[39m'\u001b[39m\u001b[39mParametros incorrectos\u001b[39m\u001b[39m'\u001b[39m)\n\u001b[0;32m     25\u001b[0m     \u001b[39mreturn\u001b[39;00m lista_covertida\n\u001b[0;32m     26\u001b[0m \u001b[39mfor\u001b[39;00m i \u001b[39min\u001b[39;00m \u001b[39mself\u001b[39m\u001b[39m.\u001b[39mlista:\n",
      "\u001b[1;31mValueError\u001b[0m: Parametros incorrectos"
     ]
    }
   ],
   "source": [
    "f1.conversion_grados('celsius','nada')"
   ]
  },
  {
   "cell_type": "code",
   "execution_count": 26,
   "metadata": {},
   "outputs": [
    {
     "ename": "ValueError",
     "evalue": "Parametros incorrectos",
     "output_type": "error",
     "traceback": [
      "\u001b[1;31m---------------------------------------------------------------------------\u001b[0m",
      "\u001b[1;31mValueError\u001b[0m                                Traceback (most recent call last)",
      "Cell \u001b[1;32mIn[26], line 1\u001b[0m\n\u001b[1;32m----> 1\u001b[0m f1\u001b[39m.\u001b[39;49mconversion_grados(\u001b[39m'\u001b[39;49m\u001b[39mnadas\u001b[39;49m\u001b[39m'\u001b[39;49m,\u001b[39m'\u001b[39;49m\u001b[39mkelvin\u001b[39;49m\u001b[39m'\u001b[39;49m)\n",
      "File \u001b[1;32mc:\\Users\\Administrator\\Desktop\\Python-Prep\\M09_errorhandling\\funcionesnuevas2.py:21\u001b[0m, in \u001b[0;36mFuncionesnuevas.conversion_grados\u001b[1;34m(self, origen, destino)\u001b[0m\n\u001b[0;32m     18\u001b[0m lista_covertida\u001b[39m=\u001b[39m[]\n\u001b[0;32m     20\u001b[0m \u001b[39mif\u001b[39;00m origen \u001b[39mnot\u001b[39;00m \u001b[39min\u001b[39;00m datos_esperados:\n\u001b[1;32m---> 21\u001b[0m     \u001b[39mraise\u001b[39;00m \u001b[39mValueError\u001b[39;00m(\u001b[39m'\u001b[39m\u001b[39mParametros incorrectos\u001b[39m\u001b[39m'\u001b[39m)\n\u001b[0;32m     22\u001b[0m     \u001b[39mreturn\u001b[39;00m lista_covertida\n\u001b[0;32m     23\u001b[0m \u001b[39mif\u001b[39;00m destino \u001b[39mnot\u001b[39;00m \u001b[39min\u001b[39;00m datos_esperados:\n",
      "\u001b[1;31mValueError\u001b[0m: Parametros incorrectos"
     ]
    }
   ],
   "source": [
    "f1.conversion_grados('nadas','kelvin')"
   ]
  },
  {
   "cell_type": "code",
   "execution_count": 27,
   "metadata": {},
   "outputs": [
    {
     "data": {
      "text/plain": [
       "[33.8, 35.6, 35.6, 37.4, 39.2, 41.0]"
      ]
     },
     "execution_count": 27,
     "metadata": {},
     "output_type": "execute_result"
    }
   ],
   "source": [
    "f1.conversion_grados('celsius','farenheit')"
   ]
  },
  {
   "attachments": {},
   "cell_type": "markdown",
   "metadata": {},
   "source": [
    "3) Importar el modulo \"unittest\" y crear los siguientes casos de pruebas sobre la clase utilizada en el punto 2<br>\n",
    "Creacion del objeto incorrecta<br>\n",
    "Creacion correcta del objeto<br>\n",
    "Metodo valor_modal()<br>\n",
    "\n",
    "Se puede usar \"raise ValueError()\" en la creación de la clase para verificar el error. Investigar sobre esta funcionalidad."
   ]
  },
  {
   "cell_type": "code",
   "execution_count": 29,
   "metadata": {},
   "outputs": [],
   "source": [
    "import unittest"
   ]
  },
  {
   "cell_type": "code",
   "execution_count": 36,
   "metadata": {},
   "outputs": [
    {
     "name": "stderr",
     "output_type": "stream",
     "text": [
      "test_crear_objeto (__main__.Testclass) ... ok\n",
      "test_crear_objeto_error (__main__.Testclass) ... ok\n",
      "test_modal (__main__.Testclass) ... ok\n",
      "\n",
      "----------------------------------------------------------------------\n",
      "Ran 3 tests in 0.005s\n",
      "\n",
      "OK\n"
     ]
    },
    {
     "data": {
      "text/plain": [
       "<unittest.main.TestProgram at 0x17eb56f3070>"
      ]
     },
     "execution_count": 36,
     "metadata": {},
     "output_type": "execute_result"
    }
   ],
   "source": [
    "\n",
    "class Testclass(unittest.TestCase):\n",
    "    def test_crear_objeto_error(self):\n",
    "        x = \"Hola\"\n",
    "        self.assertRaises(ValueError,f.Funcionesnuevas,x)\n",
    "\n",
    "    def test_crear_objeto(self):\n",
    "        x = [1,2,1,3,5]\n",
    "        f1=f.Funcionesnuevas(x)\n",
    "        self.assertEqual(f1.lista,x)\n",
    "    def test_modal(self):\n",
    "        lis=[1,2,1,3,5]\n",
    "        f1=f.Funcionesnuevas(lis)\n",
    "        mas_repetido,veces = f1.mas_repetido()\n",
    "        mas_repetido = [mas_repetido]\n",
    "        mas_repetido.append(veces)\n",
    "        resultado=[1,2]\n",
    "        self.assertEqual(mas_repetido,resultado)\n",
    "\n",
    "\n",
    "unittest.main(argv=[''], verbosity=2, exit=False)\n"
   ]
  },
  {
   "attachments": {},
   "cell_type": "markdown",
   "metadata": {},
   "source": [
    "4) Probar una creación incorrecta y visualizar la salida del \"raise\""
   ]
  },
  {
   "cell_type": "code",
   "execution_count": 37,
   "metadata": {},
   "outputs": [
    {
     "ename": "ValueError",
     "evalue": "Se espera una lista",
     "output_type": "error",
     "traceback": [
      "\u001b[1;31m---------------------------------------------------------------------------\u001b[0m",
      "\u001b[1;31mValueError\u001b[0m                                Traceback (most recent call last)",
      "Cell \u001b[1;32mIn[37], line 1\u001b[0m\n\u001b[1;32m----> 1\u001b[0m f2\u001b[39m=\u001b[39mf\u001b[39m.\u001b[39;49mFuncionesnuevas(\u001b[39m\"\u001b[39;49m\u001b[39mError\u001b[39;49m\u001b[39m\"\u001b[39;49m)\n",
      "File \u001b[1;32mc:\\Users\\Administrator\\Desktop\\Python-Prep\\M09_errorhandling\\funcionesnuevas2.py:5\u001b[0m, in \u001b[0;36mFuncionesnuevas.__init__\u001b[1;34m(self, lista_numeros)\u001b[0m\n\u001b[0;32m      3\u001b[0m \u001b[39mif\u001b[39;00m(\u001b[39mtype\u001b[39m(lista_numeros)\u001b[39m!=\u001b[39m\u001b[39mlist\u001b[39m):\n\u001b[0;32m      4\u001b[0m     \u001b[39mself\u001b[39m\u001b[39m.\u001b[39mlista\u001b[39m=\u001b[39m[]\n\u001b[1;32m----> 5\u001b[0m     \u001b[39mraise\u001b[39;00m \u001b[39mValueError\u001b[39;00m(\u001b[39m'\u001b[39m\u001b[39mSe espera una lista\u001b[39m\u001b[39m'\u001b[39m)\n\u001b[0;32m      6\u001b[0m \u001b[39melse\u001b[39;00m:\n\u001b[0;32m      7\u001b[0m     \u001b[39mself\u001b[39m\u001b[39m.\u001b[39mlista\u001b[39m=\u001b[39mlista_numeros\n",
      "\u001b[1;31mValueError\u001b[0m: Se espera una lista"
     ]
    }
   ],
   "source": [
    "f2=f.Funcionesnuevas(\"Error\")"
   ]
  },
  {
   "attachments": {},
   "cell_type": "markdown",
   "metadata": {},
   "source": [
    "6) Agregar casos de pruebas para el método verifica_primos() realizando el cambio en la clase, para que devuelva una lista de True o False en función de que el elemento en la posisicón sea o no primo"
   ]
  },
  {
   "cell_type": "code",
   "execution_count": 42,
   "metadata": {},
   "outputs": [],
   "source": [
    "importlib.reload(f)\n",
    "\n",
    "class Testclass2(unittest.TestCase):\n",
    "    def test_primos_lista(self):\n",
    "        lis = [1,2,5,8,9,10]\n",
    "        f1 = f.Funcionesnuevas(lis)\n",
    "        lista_primos=f1.es_primo()\n",
    "        lista_primos_esperados=[True,True,True,False,False,False]\n",
    "        self.assertEqual(lista_primos,lista_primos_esperados)"
   ]
  },
  {
   "cell_type": "code",
   "execution_count": 43,
   "metadata": {},
   "outputs": [
    {
     "name": "stderr",
     "output_type": "stream",
     "text": [
      "test_crear_objeto (__main__.Testclass) ... ok\n",
      "test_crear_objeto_error (__main__.Testclass) ... ok\n",
      "test_modal (__main__.Testclass) ... ok\n",
      "test_primos_lista (__main__.Testclass2) ... ok\n",
      "\n",
      "----------------------------------------------------------------------\n",
      "Ran 4 tests in 0.006s\n",
      "\n",
      "OK\n"
     ]
    },
    {
     "data": {
      "text/plain": [
       "<unittest.main.TestProgram at 0x17eb5f0b8e0>"
      ]
     },
     "execution_count": 43,
     "metadata": {},
     "output_type": "execute_result"
    }
   ],
   "source": [
    "unittest.main(argv=[''], verbosity=2, exit=False)"
   ]
  },
  {
   "attachments": {},
   "cell_type": "markdown",
   "metadata": {},
   "source": [
    "7) Agregar casos de pruebas para el método conversion_grados()"
   ]
  },
  {
   "cell_type": "code",
   "execution_count": 44,
   "metadata": {},
   "outputs": [],
   "source": [
    "class Testclass3(unittest.TestCase):\n",
    "    def test_conversion_grados(self):\n",
    "        lis=[1,2,3,4]\n",
    "        f1=f.Funcionesnuevas(lis)\n",
    "        lista_convertida=f1.conversion_grados(\"celsius\",\"farenheit\")\n",
    "        lista_convertida_esperada = [33.8,35.6,37.4,39.2]\n",
    "        self.assertEqual(lista_convertida,lista_convertida_esperada)\n"
   ]
  },
  {
   "cell_type": "code",
   "execution_count": 45,
   "metadata": {},
   "outputs": [
    {
     "name": "stderr",
     "output_type": "stream",
     "text": [
      "test_crear_objeto (__main__.Testclass) ... ok\n",
      "test_crear_objeto_error (__main__.Testclass) ... ok\n",
      "test_modal (__main__.Testclass) ... ok\n",
      "test_primos_lista (__main__.Testclass2) ... ok\n",
      "test_conversion_grados (__main__.Testclass3) ... ok\n",
      "\n",
      "----------------------------------------------------------------------\n",
      "Ran 5 tests in 0.009s\n",
      "\n",
      "OK\n"
     ]
    },
    {
     "data": {
      "text/plain": [
       "<unittest.main.TestProgram at 0x17eb56f0fa0>"
      ]
     },
     "execution_count": 45,
     "metadata": {},
     "output_type": "execute_result"
    }
   ],
   "source": [
    "unittest.main(argv=[''], verbosity=2, exit=False)"
   ]
  },
  {
   "attachments": {},
   "cell_type": "markdown",
   "metadata": {},
   "source": [
    "8) Agregar casos de pruebas para el método factorial()"
   ]
  },
  {
   "cell_type": "code",
   "execution_count": 48,
   "metadata": {},
   "outputs": [],
   "source": [
    "importlib.reload(f)\n",
    "\n",
    "class Testclass4(unittest.TestCase):\n",
    "    def test_factorial(self):\n",
    "        lis = [1,2,3,4,5]\n",
    "        f1 = f.Funcionesnuevas(lis)\n",
    "        factorial = f1.factorial()\n",
    "        factorial_esperado = [1,2,6,24,120]\n",
    "        self.assertEqual(factorial,factorial_esperado)"
   ]
  },
  {
   "cell_type": "code",
   "execution_count": 49,
   "metadata": {},
   "outputs": [
    {
     "name": "stderr",
     "output_type": "stream",
     "text": [
      "test_crear_objeto (__main__.Testclass) ... ok\n",
      "test_crear_objeto_error (__main__.Testclass) ... ok\n",
      "test_modal (__main__.Testclass) ... ok\n",
      "test_primos_lista (__main__.Testclass2) ... ok\n",
      "test_conversion_grados (__main__.Testclass3) ... ok\n",
      "test_factorial (__main__.Testclass4) ... ok\n",
      "\n",
      "----------------------------------------------------------------------\n",
      "Ran 6 tests in 0.010s\n",
      "\n",
      "OK\n"
     ]
    },
    {
     "data": {
      "text/plain": [
       "<unittest.main.TestProgram at 0x17eb62d77c0>"
      ]
     },
     "execution_count": 49,
     "metadata": {},
     "output_type": "execute_result"
    }
   ],
   "source": [
    "unittest.main(argv=[''], verbosity=2, exit=False)"
   ]
  }
 ],
 "metadata": {
  "kernelspec": {
   "display_name": "Python 3",
   "language": "python",
   "name": "python3"
  },
  "language_info": {
   "codemirror_mode": {
    "name": "ipython",
    "version": 3
   },
   "file_extension": ".py",
   "mimetype": "text/x-python",
   "name": "python",
   "nbconvert_exporter": "python",
   "pygments_lexer": "ipython3",
   "version": "3.10.11"
  },
  "vscode": {
   "interpreter": {
    "hash": "40ea231ce006ed65b013ba3e9b5a48267321b4d32b910ea3a649228a606377c3"
   }
  }
 },
 "nbformat": 4,
 "nbformat_minor": 4
}
